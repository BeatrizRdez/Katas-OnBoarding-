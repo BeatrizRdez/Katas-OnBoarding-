{
 "cells": [
  {
   "cell_type": "markdown",
   "metadata": {},
   "source": [
    "# ¡Advertencia de asteroide! 🌠"
   ]
  },
  {
   "cell_type": "code",
   "execution_count": 1,
   "metadata": {},
   "outputs": [
    {
     "name": "stdout",
     "output_type": "stream",
     "text": [
      "¡Cuidado! ¡Un asteroide se acerca!\n"
     ]
    }
   ],
   "source": [
    "asteroide = 49\n",
    "if asteroide > 25:\n",
    "  print('¡Cuidado! ¡Un asteroide se acerca!')\n",
    "else:\n",
    "  print('No hay peligro en este momento')"
   ]
  },
  {
   "cell_type": "code",
   "execution_count": 4,
   "metadata": {},
   "outputs": [
    {
     "name": "stdout",
     "output_type": "stream",
     "text": [
      "No hay nada que ver en el cielo hoy\n"
     ]
    }
   ],
   "source": [
    "asteroide = 19\n",
    "if asteroide > 20 :\n",
    "  print('Sal y busca un asteroide en el cielo')\n",
    "elif asteroide == 20 :\n",
    "  print('Sal y busca un asteroide en el cielo')\n",
    "else: \n",
    "    print('No hay nada que ver en el cielo hoy')\n"
   ]
  },
  {
   "cell_type": "code",
   "execution_count": 5,
   "metadata": {},
   "outputs": [
    {
     "name": "stdout",
     "output_type": "stream",
     "text": [
      "Sal y busca un asteroide en el cielo!\n"
     ]
    }
   ],
   "source": [
    "velocidad_asteroide = 25\n",
    "tamano_asteroide = 40\n",
    "if velocidad_asteroide > 25 and tamano_asteroide > 25:\n",
    "    print('¡Cuidado, Un gran asteroide se acerca!')\n",
    "elif velocidad_asteroide >= 20:\n",
    "    print('Sal y busca un asteroide en el cielo!')\n",
    "elif tamano_asteroide < 25:\n",
    "    print('No hay nada que ver en el cielo hoy')\n",
    "else:\n",
    "    print('No hay nada que ver en el cielo hoy')"
   ]
  }
 ],
 "metadata": {
  "interpreter": {
   "hash": "a50b9d641dcd410866010715648940a815690e95c7eb48764d79b3ce6bf18ac0"
  },
  "kernelspec": {
   "display_name": "Python 3.9.10 64-bit (windows store)",
   "language": "python",
   "name": "python3"
  },
  "language_info": {
   "codemirror_mode": {
    "name": "ipython",
    "version": 3
   },
   "file_extension": ".py",
   "mimetype": "text/x-python",
   "name": "python",
   "nbconvert_exporter": "python",
   "pygments_lexer": "ipython3",
   "version": "3.9.10"
  },
  "orig_nbformat": 4
 },
 "nbformat": 4,
 "nbformat_minor": 2
}
